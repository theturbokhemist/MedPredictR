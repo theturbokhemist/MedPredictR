{
 "cells": [
  {
   "cell_type": "markdown",
   "id": "f0b7ece9",
   "metadata": {},
   "source": [
    "# Explainable Health Cost Prediction\n",
    "\n",
    "_Andrew Lemke_"
   ]
  },
  {
   "cell_type": "markdown",
   "id": "1612828b",
   "metadata": {},
   "source": [
    "## Load Libraries and Files\n",
    "\n",
    "The dataset information is contained in the datasheet written to accompany it.\n",
    "\n",
    "### Imports"
   ]
  },
  {
   "cell_type": "code",
   "execution_count": 98,
   "id": "13db8695",
   "metadata": {},
   "outputs": [],
   "source": [
    "import numpy as np\n",
    "import pandas as pd\n",
    "\n",
    "import torch\n",
    "from torch.utils.data import Dataset, DataLoader\n",
    "from torch import nn\n",
    "import sklearn\n",
    "from sklearn.neighbors import LocalOutlierFactor\n",
    "from sklearn.svm import OneClassSVM\n",
    "from sklearn.preprocessing import StandardScaler\n",
    "\n",
    "import matplotlib.pyplot as plt"
   ]
  },
  {
   "cell_type": "markdown",
   "id": "e67530df",
   "metadata": {},
   "source": [
    "### Loading and Processing Data"
   ]
  },
  {
   "cell_type": "code",
   "execution_count": 3,
   "id": "a34cae5e",
   "metadata": {},
   "outputs": [],
   "source": [
    "data_path = './data/medical_costs/insurance.csv'\n",
    "raw_data = pd.read_csv(data_path)"
   ]
  },
  {
   "cell_type": "code",
   "execution_count": 4,
   "id": "59eadbe6",
   "metadata": {},
   "outputs": [
    {
     "data": {
      "text/html": [
       "<div>\n",
       "<style scoped>\n",
       "    .dataframe tbody tr th:only-of-type {\n",
       "        vertical-align: middle;\n",
       "    }\n",
       "\n",
       "    .dataframe tbody tr th {\n",
       "        vertical-align: top;\n",
       "    }\n",
       "\n",
       "    .dataframe thead th {\n",
       "        text-align: right;\n",
       "    }\n",
       "</style>\n",
       "<table border=\"1\" class=\"dataframe\">\n",
       "  <thead>\n",
       "    <tr style=\"text-align: right;\">\n",
       "      <th></th>\n",
       "      <th>age</th>\n",
       "      <th>sex</th>\n",
       "      <th>bmi</th>\n",
       "      <th>children</th>\n",
       "      <th>smoker</th>\n",
       "      <th>region</th>\n",
       "      <th>expenses</th>\n",
       "    </tr>\n",
       "  </thead>\n",
       "  <tbody>\n",
       "    <tr>\n",
       "      <th>0</th>\n",
       "      <td>19</td>\n",
       "      <td>female</td>\n",
       "      <td>27.9</td>\n",
       "      <td>0</td>\n",
       "      <td>yes</td>\n",
       "      <td>southwest</td>\n",
       "      <td>16884.92</td>\n",
       "    </tr>\n",
       "    <tr>\n",
       "      <th>1</th>\n",
       "      <td>18</td>\n",
       "      <td>male</td>\n",
       "      <td>33.8</td>\n",
       "      <td>1</td>\n",
       "      <td>no</td>\n",
       "      <td>southeast</td>\n",
       "      <td>1725.55</td>\n",
       "    </tr>\n",
       "    <tr>\n",
       "      <th>2</th>\n",
       "      <td>28</td>\n",
       "      <td>male</td>\n",
       "      <td>33.0</td>\n",
       "      <td>3</td>\n",
       "      <td>no</td>\n",
       "      <td>southeast</td>\n",
       "      <td>4449.46</td>\n",
       "    </tr>\n",
       "    <tr>\n",
       "      <th>3</th>\n",
       "      <td>33</td>\n",
       "      <td>male</td>\n",
       "      <td>22.7</td>\n",
       "      <td>0</td>\n",
       "      <td>no</td>\n",
       "      <td>northwest</td>\n",
       "      <td>21984.47</td>\n",
       "    </tr>\n",
       "    <tr>\n",
       "      <th>4</th>\n",
       "      <td>32</td>\n",
       "      <td>male</td>\n",
       "      <td>28.9</td>\n",
       "      <td>0</td>\n",
       "      <td>no</td>\n",
       "      <td>northwest</td>\n",
       "      <td>3866.86</td>\n",
       "    </tr>\n",
       "    <tr>\n",
       "      <th>5</th>\n",
       "      <td>31</td>\n",
       "      <td>female</td>\n",
       "      <td>25.7</td>\n",
       "      <td>0</td>\n",
       "      <td>no</td>\n",
       "      <td>southeast</td>\n",
       "      <td>3756.62</td>\n",
       "    </tr>\n",
       "    <tr>\n",
       "      <th>6</th>\n",
       "      <td>46</td>\n",
       "      <td>female</td>\n",
       "      <td>33.4</td>\n",
       "      <td>1</td>\n",
       "      <td>no</td>\n",
       "      <td>southeast</td>\n",
       "      <td>8240.59</td>\n",
       "    </tr>\n",
       "  </tbody>\n",
       "</table>\n",
       "</div>"
      ],
      "text/plain": [
       "   age     sex   bmi  children smoker     region  expenses\n",
       "0   19  female  27.9         0    yes  southwest  16884.92\n",
       "1   18    male  33.8         1     no  southeast   1725.55\n",
       "2   28    male  33.0         3     no  southeast   4449.46\n",
       "3   33    male  22.7         0     no  northwest  21984.47\n",
       "4   32    male  28.9         0     no  northwest   3866.86\n",
       "5   31  female  25.7         0     no  southeast   3756.62\n",
       "6   46  female  33.4         1     no  southeast   8240.59"
      ]
     },
     "execution_count": 4,
     "metadata": {},
     "output_type": "execute_result"
    }
   ],
   "source": [
    "raw_data.head(7)"
   ]
  },
  {
   "cell_type": "markdown",
   "id": "af14d1c4",
   "metadata": {},
   "source": [
    "In order to use this data for machine learning, some changes need to be made. `sex` and `smoker` will need to become binary and `region` will be encoded as a 1-hot vector."
   ]
  },
  {
   "cell_type": "code",
   "execution_count": 5,
   "id": "3ba384d5",
   "metadata": {},
   "outputs": [],
   "source": [
    "data = raw_data.copy(deep=True)"
   ]
  },
  {
   "cell_type": "code",
   "execution_count": 6,
   "id": "d798e7cf",
   "metadata": {},
   "outputs": [],
   "source": [
    "# make smoker and sex binary\n",
    "data['is_smoker'] = (data['smoker'] == 'yes').astype(int)\n",
    "data['is_male'] = (data['sex'] == 'male').astype(int)"
   ]
  },
  {
   "cell_type": "code",
   "execution_count": 7,
   "id": "b6bec7b7",
   "metadata": {},
   "outputs": [],
   "source": [
    "# make regions 1hot\n",
    "regions = list(data['region'].unique())\n",
    "for region in regions:\n",
    "    data[region] = (data['region'] == region).astype(int)"
   ]
  },
  {
   "cell_type": "code",
   "execution_count": 8,
   "id": "6e879db6",
   "metadata": {},
   "outputs": [],
   "source": [
    "# drop the old columns\n",
    "data.drop(\n",
    "    labels=['sex', 'smoker', 'region'],\n",
    "    axis=1,\n",
    "    inplace=True\n",
    ")"
   ]
  },
  {
   "cell_type": "code",
   "execution_count": 9,
   "id": "99dfded8",
   "metadata": {},
   "outputs": [],
   "source": [
    "# reorder columns\n",
    "new_col_order = ['age', 'is_male', 'bmi', 'children', 'is_smoker',  'southwest', \n",
    "                 'southeast', 'northwest', 'northeast', 'expenses']\n",
    "data = data[new_col_order]"
   ]
  },
  {
   "cell_type": "markdown",
   "id": "d4545ae8",
   "metadata": {},
   "source": [
    "## Determine the domain limits of the data\n",
    "\n",
    "ML models behave poorly when predicting on inputs outside of their domain. Many times, modelers forget to create limits on the inputs to their models, which can cause performance degradation when at the borders of the training data domain, which can be hard to detect, and cause clearly wrong inputs when far outside the data domain.\n",
    "\n",
    "A simple way to test if a new sample is not from the same domain is to check if each feature of that sample exists within some set confidence limit. This is a probability metric on each sample, so for some feature X, if a sample is 2 standard deviations away, then it has a X percent of being in the dataset. One can set their confidence level and proceed.\n",
    "\n",
    "The problem with this method is that it assumes all features are independent. One could come up with samples that are within the bounds of each individual features but are obviously out of domain\n",
    "\n",
    "**picture of 2d \"Y\" shaped data showing this**\n",
    "\n",
    "Consider a sample where the age is 18 and the number of kids is 5. Either one of those features is reasonable on its own, but put together, this sample is unlikely to belong to this data set.\n",
    "\n",
    "Technically, this problem is called novelty detection, not outlier detection, but such nomenclature is only used when in discussion of the task. SKLearn provides a succinct explanation of the differences.\n",
    "\n",
    "> **Outlier Detection:** The training data contains outliers which are defined as observations that are far from the others. Outlier detection estimators thus try to fit the regions where the training data is the most concentrated, ignoring the deviant observations.\n",
    ">\n",
    "> **Novelty Detection:** The training data is not polluted by outliers and we are interested in detecting whether a new observation is an outlier. In this context an outlier is also called a novelty.\n",
    "\n",
    "\n",
    "\n",
    "### Using SkLearn's Local Outlier Prediction Algorithm for Novelty Prediction\n",
    "\n",
    "This model works by examining the distance to neighbors in the dataset. It uses the distance from a new point to points provided to output a novelty score.\n",
    "\n",
    "\n"
   ]
  },
  {
   "cell_type": "code",
   "execution_count": 15,
   "id": "67ecade9",
   "metadata": {},
   "outputs": [],
   "source": [
    "clf = LocalOutlierFactor(\n",
    "    algorithm='auto',  # automatically determine the best algorithm (other than brute force) to find neighbors\n",
    "    novelty=True,  # predict novelty not outlier\n",
    "    contamination=0.0001,  # we know all samples in dataset are part of distro, feature must be (0, 0.5]\n",
    ")"
   ]
  },
  {
   "cell_type": "code",
   "execution_count": 16,
   "id": "34fcb3b1",
   "metadata": {},
   "outputs": [],
   "source": [
    "# we want to remove the 'y' variable from the data to train this \n",
    "#  as new instances will only contain features used to predict it\n",
    "X_novelty = data[['age', 'is_male', 'bmi', 'children', 'is_smoker',  'southwest', \n",
    "                  'southeast', 'northwest', 'northeast']]"
   ]
  },
  {
   "cell_type": "code",
   "execution_count": 25,
   "id": "391071a2",
   "metadata": {},
   "outputs": [
    {
     "data": {
      "text/html": [
       "<style>#sk-container-id-2 {color: black;background-color: white;}#sk-container-id-2 pre{padding: 0;}#sk-container-id-2 div.sk-toggleable {background-color: white;}#sk-container-id-2 label.sk-toggleable__label {cursor: pointer;display: block;width: 100%;margin-bottom: 0;padding: 0.3em;box-sizing: border-box;text-align: center;}#sk-container-id-2 label.sk-toggleable__label-arrow:before {content: \"▸\";float: left;margin-right: 0.25em;color: #696969;}#sk-container-id-2 label.sk-toggleable__label-arrow:hover:before {color: black;}#sk-container-id-2 div.sk-estimator:hover label.sk-toggleable__label-arrow:before {color: black;}#sk-container-id-2 div.sk-toggleable__content {max-height: 0;max-width: 0;overflow: hidden;text-align: left;background-color: #f0f8ff;}#sk-container-id-2 div.sk-toggleable__content pre {margin: 0.2em;color: black;border-radius: 0.25em;background-color: #f0f8ff;}#sk-container-id-2 input.sk-toggleable__control:checked~div.sk-toggleable__content {max-height: 200px;max-width: 100%;overflow: auto;}#sk-container-id-2 input.sk-toggleable__control:checked~label.sk-toggleable__label-arrow:before {content: \"▾\";}#sk-container-id-2 div.sk-estimator input.sk-toggleable__control:checked~label.sk-toggleable__label {background-color: #d4ebff;}#sk-container-id-2 div.sk-label input.sk-toggleable__control:checked~label.sk-toggleable__label {background-color: #d4ebff;}#sk-container-id-2 input.sk-hidden--visually {border: 0;clip: rect(1px 1px 1px 1px);clip: rect(1px, 1px, 1px, 1px);height: 1px;margin: -1px;overflow: hidden;padding: 0;position: absolute;width: 1px;}#sk-container-id-2 div.sk-estimator {font-family: monospace;background-color: #f0f8ff;border: 1px dotted black;border-radius: 0.25em;box-sizing: border-box;margin-bottom: 0.5em;}#sk-container-id-2 div.sk-estimator:hover {background-color: #d4ebff;}#sk-container-id-2 div.sk-parallel-item::after {content: \"\";width: 100%;border-bottom: 1px solid gray;flex-grow: 1;}#sk-container-id-2 div.sk-label:hover label.sk-toggleable__label {background-color: #d4ebff;}#sk-container-id-2 div.sk-serial::before {content: \"\";position: absolute;border-left: 1px solid gray;box-sizing: border-box;top: 0;bottom: 0;left: 50%;z-index: 0;}#sk-container-id-2 div.sk-serial {display: flex;flex-direction: column;align-items: center;background-color: white;padding-right: 0.2em;padding-left: 0.2em;position: relative;}#sk-container-id-2 div.sk-item {position: relative;z-index: 1;}#sk-container-id-2 div.sk-parallel {display: flex;align-items: stretch;justify-content: center;background-color: white;position: relative;}#sk-container-id-2 div.sk-item::before, #sk-container-id-2 div.sk-parallel-item::before {content: \"\";position: absolute;border-left: 1px solid gray;box-sizing: border-box;top: 0;bottom: 0;left: 50%;z-index: -1;}#sk-container-id-2 div.sk-parallel-item {display: flex;flex-direction: column;z-index: 1;position: relative;background-color: white;}#sk-container-id-2 div.sk-parallel-item:first-child::after {align-self: flex-end;width: 50%;}#sk-container-id-2 div.sk-parallel-item:last-child::after {align-self: flex-start;width: 50%;}#sk-container-id-2 div.sk-parallel-item:only-child::after {width: 0;}#sk-container-id-2 div.sk-dashed-wrapped {border: 1px dashed gray;margin: 0 0.4em 0.5em 0.4em;box-sizing: border-box;padding-bottom: 0.4em;background-color: white;}#sk-container-id-2 div.sk-label label {font-family: monospace;font-weight: bold;display: inline-block;line-height: 1.2em;}#sk-container-id-2 div.sk-label-container {text-align: center;}#sk-container-id-2 div.sk-container {/* jupyter's `normalize.less` sets `[hidden] { display: none; }` but bootstrap.min.css set `[hidden] { display: none !important; }` so we also need the `!important` here to be able to override the default hidden behavior on the sphinx rendered scikit-learn.org. See: https://github.com/scikit-learn/scikit-learn/issues/21755 */display: inline-block !important;position: relative;}#sk-container-id-2 div.sk-text-repr-fallback {display: none;}</style><div id=\"sk-container-id-2\" class=\"sk-top-container\"><div class=\"sk-text-repr-fallback\"><pre>LocalOutlierFactor(contamination=0.0001, novelty=True)</pre><b>In a Jupyter environment, please rerun this cell to show the HTML representation or trust the notebook. <br />On GitHub, the HTML representation is unable to render, please try loading this page with nbviewer.org.</b></div><div class=\"sk-container\" hidden><div class=\"sk-item\"><div class=\"sk-estimator sk-toggleable\"><input class=\"sk-toggleable__control sk-hidden--visually\" id=\"sk-estimator-id-2\" type=\"checkbox\" checked><label for=\"sk-estimator-id-2\" class=\"sk-toggleable__label sk-toggleable__label-arrow\">LocalOutlierFactor</label><div class=\"sk-toggleable__content\"><pre>LocalOutlierFactor(contamination=0.0001, novelty=True)</pre></div></div></div></div></div>"
      ],
      "text/plain": [
       "LocalOutlierFactor(contamination=0.0001, novelty=True)"
      ]
     },
     "execution_count": 25,
     "metadata": {},
     "output_type": "execute_result"
    }
   ],
   "source": [
    "clf.fit(X_novelty)"
   ]
  },
  {
   "cell_type": "markdown",
   "id": "119b18b3",
   "metadata": {},
   "source": [
    "Now, for a quick demo of the outlier detection."
   ]
  },
  {
   "cell_type": "code",
   "execution_count": 18,
   "id": "da6de919",
   "metadata": {},
   "outputs": [
    {
     "data": {
      "text/html": [
       "<div>\n",
       "<style scoped>\n",
       "    .dataframe tbody tr th:only-of-type {\n",
       "        vertical-align: middle;\n",
       "    }\n",
       "\n",
       "    .dataframe tbody tr th {\n",
       "        vertical-align: top;\n",
       "    }\n",
       "\n",
       "    .dataframe thead th {\n",
       "        text-align: right;\n",
       "    }\n",
       "</style>\n",
       "<table border=\"1\" class=\"dataframe\">\n",
       "  <thead>\n",
       "    <tr style=\"text-align: right;\">\n",
       "      <th></th>\n",
       "      <th>age</th>\n",
       "      <th>is_male</th>\n",
       "      <th>bmi</th>\n",
       "      <th>children</th>\n",
       "      <th>is_smoker</th>\n",
       "      <th>southwest</th>\n",
       "      <th>southeast</th>\n",
       "      <th>northwest</th>\n",
       "      <th>northeast</th>\n",
       "      <th>expenses</th>\n",
       "    </tr>\n",
       "  </thead>\n",
       "  <tbody>\n",
       "    <tr>\n",
       "      <th>count</th>\n",
       "      <td>1338.000000</td>\n",
       "      <td>1338.000000</td>\n",
       "      <td>1338.000000</td>\n",
       "      <td>1338.000000</td>\n",
       "      <td>1338.000000</td>\n",
       "      <td>1338.000000</td>\n",
       "      <td>1338.000000</td>\n",
       "      <td>1338.000000</td>\n",
       "      <td>1338.000000</td>\n",
       "      <td>1338.000000</td>\n",
       "    </tr>\n",
       "    <tr>\n",
       "      <th>mean</th>\n",
       "      <td>39.207025</td>\n",
       "      <td>0.505232</td>\n",
       "      <td>30.665471</td>\n",
       "      <td>1.094918</td>\n",
       "      <td>0.204783</td>\n",
       "      <td>0.242900</td>\n",
       "      <td>0.272048</td>\n",
       "      <td>0.242900</td>\n",
       "      <td>0.242152</td>\n",
       "      <td>13270.422414</td>\n",
       "    </tr>\n",
       "    <tr>\n",
       "      <th>std</th>\n",
       "      <td>14.049960</td>\n",
       "      <td>0.500160</td>\n",
       "      <td>6.098382</td>\n",
       "      <td>1.205493</td>\n",
       "      <td>0.403694</td>\n",
       "      <td>0.428995</td>\n",
       "      <td>0.445181</td>\n",
       "      <td>0.428995</td>\n",
       "      <td>0.428546</td>\n",
       "      <td>12110.011240</td>\n",
       "    </tr>\n",
       "    <tr>\n",
       "      <th>min</th>\n",
       "      <td>18.000000</td>\n",
       "      <td>0.000000</td>\n",
       "      <td>16.000000</td>\n",
       "      <td>0.000000</td>\n",
       "      <td>0.000000</td>\n",
       "      <td>0.000000</td>\n",
       "      <td>0.000000</td>\n",
       "      <td>0.000000</td>\n",
       "      <td>0.000000</td>\n",
       "      <td>1121.870000</td>\n",
       "    </tr>\n",
       "    <tr>\n",
       "      <th>25%</th>\n",
       "      <td>27.000000</td>\n",
       "      <td>0.000000</td>\n",
       "      <td>26.300000</td>\n",
       "      <td>0.000000</td>\n",
       "      <td>0.000000</td>\n",
       "      <td>0.000000</td>\n",
       "      <td>0.000000</td>\n",
       "      <td>0.000000</td>\n",
       "      <td>0.000000</td>\n",
       "      <td>4740.287500</td>\n",
       "    </tr>\n",
       "    <tr>\n",
       "      <th>50%</th>\n",
       "      <td>39.000000</td>\n",
       "      <td>1.000000</td>\n",
       "      <td>30.400000</td>\n",
       "      <td>1.000000</td>\n",
       "      <td>0.000000</td>\n",
       "      <td>0.000000</td>\n",
       "      <td>0.000000</td>\n",
       "      <td>0.000000</td>\n",
       "      <td>0.000000</td>\n",
       "      <td>9382.030000</td>\n",
       "    </tr>\n",
       "    <tr>\n",
       "      <th>75%</th>\n",
       "      <td>51.000000</td>\n",
       "      <td>1.000000</td>\n",
       "      <td>34.700000</td>\n",
       "      <td>2.000000</td>\n",
       "      <td>0.000000</td>\n",
       "      <td>0.000000</td>\n",
       "      <td>1.000000</td>\n",
       "      <td>0.000000</td>\n",
       "      <td>0.000000</td>\n",
       "      <td>16639.915000</td>\n",
       "    </tr>\n",
       "    <tr>\n",
       "      <th>max</th>\n",
       "      <td>64.000000</td>\n",
       "      <td>1.000000</td>\n",
       "      <td>53.100000</td>\n",
       "      <td>5.000000</td>\n",
       "      <td>1.000000</td>\n",
       "      <td>1.000000</td>\n",
       "      <td>1.000000</td>\n",
       "      <td>1.000000</td>\n",
       "      <td>1.000000</td>\n",
       "      <td>63770.430000</td>\n",
       "    </tr>\n",
       "  </tbody>\n",
       "</table>\n",
       "</div>"
      ],
      "text/plain": [
       "               age      is_male          bmi     children    is_smoker  \\\n",
       "count  1338.000000  1338.000000  1338.000000  1338.000000  1338.000000   \n",
       "mean     39.207025     0.505232    30.665471     1.094918     0.204783   \n",
       "std      14.049960     0.500160     6.098382     1.205493     0.403694   \n",
       "min      18.000000     0.000000    16.000000     0.000000     0.000000   \n",
       "25%      27.000000     0.000000    26.300000     0.000000     0.000000   \n",
       "50%      39.000000     1.000000    30.400000     1.000000     0.000000   \n",
       "75%      51.000000     1.000000    34.700000     2.000000     0.000000   \n",
       "max      64.000000     1.000000    53.100000     5.000000     1.000000   \n",
       "\n",
       "         southwest    southeast    northwest    northeast      expenses  \n",
       "count  1338.000000  1338.000000  1338.000000  1338.000000   1338.000000  \n",
       "mean      0.242900     0.272048     0.242900     0.242152  13270.422414  \n",
       "std       0.428995     0.445181     0.428995     0.428546  12110.011240  \n",
       "min       0.000000     0.000000     0.000000     0.000000   1121.870000  \n",
       "25%       0.000000     0.000000     0.000000     0.000000   4740.287500  \n",
       "50%       0.000000     0.000000     0.000000     0.000000   9382.030000  \n",
       "75%       0.000000     1.000000     0.000000     0.000000  16639.915000  \n",
       "max       1.000000     1.000000     1.000000     1.000000  63770.430000  "
      ]
     },
     "execution_count": 18,
     "metadata": {},
     "output_type": "execute_result"
    }
   ],
   "source": [
    "data.describe()"
   ]
  },
  {
   "cell_type": "code",
   "execution_count": 52,
   "id": "0eb71e73",
   "metadata": {},
   "outputs": [],
   "source": [
    "# make some test points\n",
    "X_outlier_demo = pd.DataFrame(\n",
    "    data={\n",
    "        'age': [33, 15, 95, 53, 18, ],\n",
    "        'is_male': [1, 0, 0, 1, 0, ],\n",
    "        'bmi': [40.04, 26.01, 26.99, 55.04, 32.59],\n",
    "        'children': [3, 0, 0, 4, 0, ],\n",
    "        'is_smoker': [0, 0, 0, 1, 0, ],\n",
    "        'southwest': [1, 0, 0, 0, 1, ],\n",
    "        'southeast': [0, 0, 1, 0, 0, ],\n",
    "        'northwest': [0, 1, 0, 0, 0, ],\n",
    "        'northeast': [0, 0, 0, 1, 0, ],\n",
    "    }\n",
    ")\n",
    "\n",
    "demo_answers = [1, -1, -1, -1, 1]"
   ]
  },
  {
   "cell_type": "code",
   "execution_count": 44,
   "id": "ef952c4a",
   "metadata": {},
   "outputs": [
    {
     "data": {
      "text/html": [
       "<div>\n",
       "<style scoped>\n",
       "    .dataframe tbody tr th:only-of-type {\n",
       "        vertical-align: middle;\n",
       "    }\n",
       "\n",
       "    .dataframe tbody tr th {\n",
       "        vertical-align: top;\n",
       "    }\n",
       "\n",
       "    .dataframe thead th {\n",
       "        text-align: right;\n",
       "    }\n",
       "</style>\n",
       "<table border=\"1\" class=\"dataframe\">\n",
       "  <thead>\n",
       "    <tr style=\"text-align: right;\">\n",
       "      <th></th>\n",
       "      <th>age</th>\n",
       "      <th>is_male</th>\n",
       "      <th>bmi</th>\n",
       "      <th>children</th>\n",
       "      <th>is_smoker</th>\n",
       "      <th>southwest</th>\n",
       "      <th>southeast</th>\n",
       "      <th>northwest</th>\n",
       "      <th>northeast</th>\n",
       "    </tr>\n",
       "  </thead>\n",
       "  <tbody>\n",
       "    <tr>\n",
       "      <th>0</th>\n",
       "      <td>33</td>\n",
       "      <td>1</td>\n",
       "      <td>40.04</td>\n",
       "      <td>3</td>\n",
       "      <td>0</td>\n",
       "      <td>1</td>\n",
       "      <td>0</td>\n",
       "      <td>0</td>\n",
       "      <td>0</td>\n",
       "    </tr>\n",
       "    <tr>\n",
       "      <th>1</th>\n",
       "      <td>15</td>\n",
       "      <td>0</td>\n",
       "      <td>26.01</td>\n",
       "      <td>0</td>\n",
       "      <td>0</td>\n",
       "      <td>0</td>\n",
       "      <td>0</td>\n",
       "      <td>1</td>\n",
       "      <td>0</td>\n",
       "    </tr>\n",
       "    <tr>\n",
       "      <th>2</th>\n",
       "      <td>95</td>\n",
       "      <td>0</td>\n",
       "      <td>26.99</td>\n",
       "      <td>0</td>\n",
       "      <td>0</td>\n",
       "      <td>0</td>\n",
       "      <td>1</td>\n",
       "      <td>0</td>\n",
       "      <td>0</td>\n",
       "    </tr>\n",
       "    <tr>\n",
       "      <th>3</th>\n",
       "      <td>53</td>\n",
       "      <td>1</td>\n",
       "      <td>55.04</td>\n",
       "      <td>4</td>\n",
       "      <td>1</td>\n",
       "      <td>0</td>\n",
       "      <td>0</td>\n",
       "      <td>0</td>\n",
       "      <td>1</td>\n",
       "    </tr>\n",
       "    <tr>\n",
       "      <th>4</th>\n",
       "      <td>18</td>\n",
       "      <td>0</td>\n",
       "      <td>32.59</td>\n",
       "      <td>0</td>\n",
       "      <td>0</td>\n",
       "      <td>1</td>\n",
       "      <td>0</td>\n",
       "      <td>0</td>\n",
       "      <td>0</td>\n",
       "    </tr>\n",
       "  </tbody>\n",
       "</table>\n",
       "</div>"
      ],
      "text/plain": [
       "   age  is_male    bmi  children  is_smoker  southwest  southeast  northwest  \\\n",
       "0   33        1  40.04         3          0          1          0          0   \n",
       "1   15        0  26.01         0          0          0          0          1   \n",
       "2   95        0  26.99         0          0          0          1          0   \n",
       "3   53        1  55.04         4          1          0          0          0   \n",
       "4   18        0  32.59         0          0          1          0          0   \n",
       "\n",
       "   northeast  \n",
       "0          0  \n",
       "1          0  \n",
       "2          0  \n",
       "3          1  \n",
       "4          0  "
      ]
     },
     "execution_count": 44,
     "metadata": {},
     "output_type": "execute_result"
    }
   ],
   "source": [
    "X_outlier_demo"
   ]
  },
  {
   "cell_type": "code",
   "execution_count": 45,
   "id": "96bcfb1b",
   "metadata": {},
   "outputs": [
    {
     "name": "stderr",
     "output_type": "stream",
     "text": [
      "X does not have valid feature names, but LocalOutlierFactor was fitted with feature names\n"
     ]
    },
    {
     "data": {
      "text/plain": [
       "array([ 1.47558617,  0.98608797, -6.30600359,  0.53455332,  1.53696613])"
      ]
     },
     "execution_count": 45,
     "metadata": {},
     "output_type": "execute_result"
    }
   ],
   "source": [
    "clf.decision_function(X_outlier_demo)"
   ]
  },
  {
   "cell_type": "markdown",
   "id": "949c6f00",
   "metadata": {},
   "source": [
    "Warning is a consequence of using data frames as when operating, the model extracts the data before proceeding, so the model does not see the features of the new X when predicting.\n",
    "\n",
    "As informed by the SKLearn documentation, \"negative scores represent outliers, positive scores represent inliers.\" While this model easily spotted the age way larger than previously seen, it fails to recognize the hard minimum of 18 in the data. We can  see the problem with an ML only approach. \n",
    "\n",
    "This flaw makes us adopt a hybrid rules-based ML approach (TODO find the actual words for this from notes/slides). We will use rules to enforce certain in domain/out of domain decisions. The rules section will operate as a black list, meaning if a sample passes the rules, then it is sent to the model; if a sample fails the rules, then it is classified as out of domain.\n",
    "\n",
    "Notice that this is different than input validation. Input validation guarantees that the input is not illogical. Novelty detection tests if the input is part of the distribution or not. Here is an example\n",
    "\n",
    "```\n",
    "features: ... southwest \tsoutheast \tnorthwest \tnortheast\n",
    "data:     ...     1             1           0           0\n",
    "```\n",
    "\n",
    "The above input would be caught by input validation, which would test to make sure the person is only living in 1 region.\n",
    "\n",
    "```\n",
    "features: ... is_male \tbmi \tchildren ...\n",
    "data:     ...    1     04.77        2\n",
    "```\n",
    "\n",
    "In contrast, the above error cannot be caught by validation. The value of bmi is \"legal\" but not within the data distribution.\n",
    "\n",
    "\n",
    "### Using SkLearn's 1-class SVM Algorithm for Novelty Prediction\n",
    "\n",
    "For completeness sake, we will show one more novelty detection algorithm. This algorithm fits an SVM to the data. This is made possible by making the 1 class problem into a 2 class problem. The SVM's decision boundary occurs between the data and the origin, and uses a parameter in training to control how tightly to envelope the data, essentially, what tolerance to use when predicting the novelty of new samples. Using an rbf kernel removes the linear constraints from the model.\n"
   ]
  },
  {
   "cell_type": "code",
   "execution_count": 61,
   "id": "f42ebbcc",
   "metadata": {},
   "outputs": [],
   "source": [
    "clf_1cSVM = OneClassSVM(\n",
    "    kernel='rbf',\n",
    "    nu=0.1,  # tolerance for novelty\n",
    "    cache_size=400,\n",
    ")"
   ]
  },
  {
   "cell_type": "code",
   "execution_count": 62,
   "id": "d1e136a1",
   "metadata": {},
   "outputs": [
    {
     "data": {
      "text/html": [
       "<style>#sk-container-id-9 {color: black;background-color: white;}#sk-container-id-9 pre{padding: 0;}#sk-container-id-9 div.sk-toggleable {background-color: white;}#sk-container-id-9 label.sk-toggleable__label {cursor: pointer;display: block;width: 100%;margin-bottom: 0;padding: 0.3em;box-sizing: border-box;text-align: center;}#sk-container-id-9 label.sk-toggleable__label-arrow:before {content: \"▸\";float: left;margin-right: 0.25em;color: #696969;}#sk-container-id-9 label.sk-toggleable__label-arrow:hover:before {color: black;}#sk-container-id-9 div.sk-estimator:hover label.sk-toggleable__label-arrow:before {color: black;}#sk-container-id-9 div.sk-toggleable__content {max-height: 0;max-width: 0;overflow: hidden;text-align: left;background-color: #f0f8ff;}#sk-container-id-9 div.sk-toggleable__content pre {margin: 0.2em;color: black;border-radius: 0.25em;background-color: #f0f8ff;}#sk-container-id-9 input.sk-toggleable__control:checked~div.sk-toggleable__content {max-height: 200px;max-width: 100%;overflow: auto;}#sk-container-id-9 input.sk-toggleable__control:checked~label.sk-toggleable__label-arrow:before {content: \"▾\";}#sk-container-id-9 div.sk-estimator input.sk-toggleable__control:checked~label.sk-toggleable__label {background-color: #d4ebff;}#sk-container-id-9 div.sk-label input.sk-toggleable__control:checked~label.sk-toggleable__label {background-color: #d4ebff;}#sk-container-id-9 input.sk-hidden--visually {border: 0;clip: rect(1px 1px 1px 1px);clip: rect(1px, 1px, 1px, 1px);height: 1px;margin: -1px;overflow: hidden;padding: 0;position: absolute;width: 1px;}#sk-container-id-9 div.sk-estimator {font-family: monospace;background-color: #f0f8ff;border: 1px dotted black;border-radius: 0.25em;box-sizing: border-box;margin-bottom: 0.5em;}#sk-container-id-9 div.sk-estimator:hover {background-color: #d4ebff;}#sk-container-id-9 div.sk-parallel-item::after {content: \"\";width: 100%;border-bottom: 1px solid gray;flex-grow: 1;}#sk-container-id-9 div.sk-label:hover label.sk-toggleable__label {background-color: #d4ebff;}#sk-container-id-9 div.sk-serial::before {content: \"\";position: absolute;border-left: 1px solid gray;box-sizing: border-box;top: 0;bottom: 0;left: 50%;z-index: 0;}#sk-container-id-9 div.sk-serial {display: flex;flex-direction: column;align-items: center;background-color: white;padding-right: 0.2em;padding-left: 0.2em;position: relative;}#sk-container-id-9 div.sk-item {position: relative;z-index: 1;}#sk-container-id-9 div.sk-parallel {display: flex;align-items: stretch;justify-content: center;background-color: white;position: relative;}#sk-container-id-9 div.sk-item::before, #sk-container-id-9 div.sk-parallel-item::before {content: \"\";position: absolute;border-left: 1px solid gray;box-sizing: border-box;top: 0;bottom: 0;left: 50%;z-index: -1;}#sk-container-id-9 div.sk-parallel-item {display: flex;flex-direction: column;z-index: 1;position: relative;background-color: white;}#sk-container-id-9 div.sk-parallel-item:first-child::after {align-self: flex-end;width: 50%;}#sk-container-id-9 div.sk-parallel-item:last-child::after {align-self: flex-start;width: 50%;}#sk-container-id-9 div.sk-parallel-item:only-child::after {width: 0;}#sk-container-id-9 div.sk-dashed-wrapped {border: 1px dashed gray;margin: 0 0.4em 0.5em 0.4em;box-sizing: border-box;padding-bottom: 0.4em;background-color: white;}#sk-container-id-9 div.sk-label label {font-family: monospace;font-weight: bold;display: inline-block;line-height: 1.2em;}#sk-container-id-9 div.sk-label-container {text-align: center;}#sk-container-id-9 div.sk-container {/* jupyter's `normalize.less` sets `[hidden] { display: none; }` but bootstrap.min.css set `[hidden] { display: none !important; }` so we also need the `!important` here to be able to override the default hidden behavior on the sphinx rendered scikit-learn.org. See: https://github.com/scikit-learn/scikit-learn/issues/21755 */display: inline-block !important;position: relative;}#sk-container-id-9 div.sk-text-repr-fallback {display: none;}</style><div id=\"sk-container-id-9\" class=\"sk-top-container\"><div class=\"sk-text-repr-fallback\"><pre>OneClassSVM(cache_size=400, nu=0.1)</pre><b>In a Jupyter environment, please rerun this cell to show the HTML representation or trust the notebook. <br />On GitHub, the HTML representation is unable to render, please try loading this page with nbviewer.org.</b></div><div class=\"sk-container\" hidden><div class=\"sk-item\"><div class=\"sk-estimator sk-toggleable\"><input class=\"sk-toggleable__control sk-hidden--visually\" id=\"sk-estimator-id-9\" type=\"checkbox\" checked><label for=\"sk-estimator-id-9\" class=\"sk-toggleable__label sk-toggleable__label-arrow\">OneClassSVM</label><div class=\"sk-toggleable__content\"><pre>OneClassSVM(cache_size=400, nu=0.1)</pre></div></div></div></div></div>"
      ],
      "text/plain": [
       "OneClassSVM(cache_size=400, nu=0.1)"
      ]
     },
     "execution_count": 62,
     "metadata": {},
     "output_type": "execute_result"
    }
   ],
   "source": [
    "clf_1cSVM.fit(X_novelty)"
   ]
  },
  {
   "cell_type": "code",
   "execution_count": 63,
   "id": "e06e9180",
   "metadata": {},
   "outputs": [
    {
     "data": {
      "text/plain": [
       "array([  8.57613997,  -3.4292507 , -47.1914073 , -11.78455482,\n",
       "         0.70764446])"
      ]
     },
     "execution_count": 63,
     "metadata": {},
     "output_type": "execute_result"
    }
   ],
   "source": [
    "clf_1cSVM.decision_function(X_outlier_demo)"
   ]
  },
  {
   "cell_type": "markdown",
   "id": "71d50586",
   "metadata": {},
   "source": [
    "For this problem, the 1-class SVM works well, but we cannot rely just on this ML model as we can make the domain checking more robust with a combination of rules and models.\n",
    "\n",
    "\n",
    "### Rules Based Approach"
   ]
  },
  {
   "cell_type": "code",
   "execution_count": 74,
   "id": "9e968bba",
   "metadata": {},
   "outputs": [],
   "source": [
    "def rules_based_in_domain_check(X):\n",
    "    \"\"\"\n",
    "    Testest the input to verify it is in domain with rules.\n",
    "    Outputs False for out of domain, True if the rules indicate it is not out of domain.\n",
    "    Designed to be used before an ML based approach.\n",
    "    \n",
    "    X: a dataframe with the columns ['age', 'is_male', 'bmi', 'children', \n",
    "       'is_smoker',  'southwest', 'southeast', 'northwest', 'northeast']\n",
    "    \"\"\"\n",
    "    \n",
    "    results1 = X['age'] >= 18\n",
    "    results2 = X['children'] <= 5\n",
    "    results = results1 & results2\n",
    "    \n",
    "    # convert to ints\n",
    "    #results = (results.astype(int) * 2) - 1\n",
    "    \n",
    "    return results"
   ]
  },
  {
   "cell_type": "code",
   "execution_count": 82,
   "id": "4d7d7a39",
   "metadata": {},
   "outputs": [
    {
     "data": {
      "text/plain": [
       "0     True\n",
       "1    False\n",
       "2     True\n",
       "3     True\n",
       "4     True\n",
       "dtype: bool"
      ]
     },
     "execution_count": 82,
     "metadata": {},
     "output_type": "execute_result"
    }
   ],
   "source": [
    "rules_based_in_domain_check(X_outlier_demo)"
   ]
  },
  {
   "cell_type": "markdown",
   "id": "91757a9f",
   "metadata": {},
   "source": [
    "### Hybred Approach\n",
    "\n",
    "Combintion of rules blacklisting and an ML novelty preditction"
   ]
  },
  {
   "cell_type": "code",
   "execution_count": 79,
   "id": "9105340f",
   "metadata": {},
   "outputs": [],
   "source": [
    "def in_domain_testing(X, ml_model=clf):\n",
    "    rules_results = rules_based_domain_check(X)\n",
    "    model_results = ml_model.decision_function(X) >= 0  # turn into T or F, T is in domain\n",
    "    return rules_results & model_results\n",
    "    \n",
    "    "
   ]
  },
  {
   "cell_type": "code",
   "execution_count": 83,
   "id": "988da5d4",
   "metadata": {},
   "outputs": [
    {
     "data": {
      "text/plain": [
       "0     True\n",
       "1    False\n",
       "2    False\n",
       "3    False\n",
       "4     True\n",
       "dtype: bool"
      ]
     },
     "execution_count": 83,
     "metadata": {},
     "output_type": "execute_result"
    }
   ],
   "source": [
    "in_domain_testing(X_outlier_demo, ml_model=clf_1cSVM)"
   ]
  },
  {
   "cell_type": "markdown",
   "id": "9785f39b",
   "metadata": {},
   "source": [
    "We see that this combination of approaches works best to deal with hard, easily defined edges on the data domain that are human-informed, which is the 18+ restriction on the data, and the more complicated soft rules. This hybrid approach can be a good way to provide safeguards around your model. The blacklist rules approach can see usage in other cases where there might be some external limit on the model put in place by law or societal norms. An example of its use can be in a product recommendation model. Suppose that the local laws forbid targeted advertisement to those under 18 and you are writing an advertising model for social media. The model should use the profile information and a rules based approach to deal with this situation as the difference between 17 and 18 to a novelty detector is not significant, but the difference between 17 years old and 18 years old is.\n",
    "\n",
    "\n",
    "## ML Model\n",
    "\n",
    "The model development first partitions the data into train, validation, and test sets. Then, a variety of architectures are tested and the one with the best validation performance is chosen.\n",
    "\n",
    "\n",
    "### Setting up the data\n",
    "\n",
    "Since we are using torch, we will need a dataset and dataloader. Before creating those, we need to split the data into train, val, test.\n",
    "\n",
    "\n"
   ]
  },
  {
   "cell_type": "code",
   "execution_count": 88,
   "id": "d1f30acb",
   "metadata": {},
   "outputs": [],
   "source": [
    "train, test_val = sklearn.model_selection.train_test_split(\n",
    "    data, \n",
    "    test_size=0.4, \n",
    "    random_state=21, \n",
    "    shuffle=True\n",
    ")\n",
    "val, test = sklearn.model_selection.train_test_split(\n",
    "    test_val, \n",
    "    test_size=0.5, \n",
    "    random_state=21, \n",
    "    shuffle=True\n",
    ")"
   ]
  },
  {
   "cell_type": "markdown",
   "id": "d78bebc1",
   "metadata": {},
   "source": [
    "Data normalization is crucial for getting useful gradients when training. "
   ]
  },
  {
   "cell_type": "code",
   "execution_count": 99,
   "id": "baf6594e",
   "metadata": {},
   "outputs": [],
   "source": [
    "# normalize the X data with a standard scaler.\n",
    "standard_scaler = StandardScaler()"
   ]
  },
  {
   "cell_type": "code",
   "execution_count": 107,
   "id": "f3e07747",
   "metadata": {},
   "outputs": [],
   "source": [
    "X_train = train[['age', 'is_male', 'bmi', 'children', 'is_smoker',  'southwest', \n",
    "                  'southeast', 'northwest', 'northeast']]\n",
    "X_val = val[['age', 'is_male', 'bmi', 'children', 'is_smoker',  'southwest', \n",
    "                  'southeast', 'northwest', 'northeast']]\n",
    "X_test = test[['age', 'is_male', 'bmi', 'children', 'is_smoker',  'southwest', \n",
    "                  'southeast', 'northwest', 'northeast']]\n",
    "y_train = train[['expenses']].to_numpy() / 1000\n",
    "y_val = val[['expenses']].to_numpy() / 1000\n",
    "y_test = test[['expenses']].to_numpy() / 1000"
   ]
  },
  {
   "cell_type": "code",
   "execution_count": 108,
   "id": "1436f6c8",
   "metadata": {},
   "outputs": [
    {
     "data": {
      "text/html": [
       "<style>#sk-container-id-11 {color: black;background-color: white;}#sk-container-id-11 pre{padding: 0;}#sk-container-id-11 div.sk-toggleable {background-color: white;}#sk-container-id-11 label.sk-toggleable__label {cursor: pointer;display: block;width: 100%;margin-bottom: 0;padding: 0.3em;box-sizing: border-box;text-align: center;}#sk-container-id-11 label.sk-toggleable__label-arrow:before {content: \"▸\";float: left;margin-right: 0.25em;color: #696969;}#sk-container-id-11 label.sk-toggleable__label-arrow:hover:before {color: black;}#sk-container-id-11 div.sk-estimator:hover label.sk-toggleable__label-arrow:before {color: black;}#sk-container-id-11 div.sk-toggleable__content {max-height: 0;max-width: 0;overflow: hidden;text-align: left;background-color: #f0f8ff;}#sk-container-id-11 div.sk-toggleable__content pre {margin: 0.2em;color: black;border-radius: 0.25em;background-color: #f0f8ff;}#sk-container-id-11 input.sk-toggleable__control:checked~div.sk-toggleable__content {max-height: 200px;max-width: 100%;overflow: auto;}#sk-container-id-11 input.sk-toggleable__control:checked~label.sk-toggleable__label-arrow:before {content: \"▾\";}#sk-container-id-11 div.sk-estimator input.sk-toggleable__control:checked~label.sk-toggleable__label {background-color: #d4ebff;}#sk-container-id-11 div.sk-label input.sk-toggleable__control:checked~label.sk-toggleable__label {background-color: #d4ebff;}#sk-container-id-11 input.sk-hidden--visually {border: 0;clip: rect(1px 1px 1px 1px);clip: rect(1px, 1px, 1px, 1px);height: 1px;margin: -1px;overflow: hidden;padding: 0;position: absolute;width: 1px;}#sk-container-id-11 div.sk-estimator {font-family: monospace;background-color: #f0f8ff;border: 1px dotted black;border-radius: 0.25em;box-sizing: border-box;margin-bottom: 0.5em;}#sk-container-id-11 div.sk-estimator:hover {background-color: #d4ebff;}#sk-container-id-11 div.sk-parallel-item::after {content: \"\";width: 100%;border-bottom: 1px solid gray;flex-grow: 1;}#sk-container-id-11 div.sk-label:hover label.sk-toggleable__label {background-color: #d4ebff;}#sk-container-id-11 div.sk-serial::before {content: \"\";position: absolute;border-left: 1px solid gray;box-sizing: border-box;top: 0;bottom: 0;left: 50%;z-index: 0;}#sk-container-id-11 div.sk-serial {display: flex;flex-direction: column;align-items: center;background-color: white;padding-right: 0.2em;padding-left: 0.2em;position: relative;}#sk-container-id-11 div.sk-item {position: relative;z-index: 1;}#sk-container-id-11 div.sk-parallel {display: flex;align-items: stretch;justify-content: center;background-color: white;position: relative;}#sk-container-id-11 div.sk-item::before, #sk-container-id-11 div.sk-parallel-item::before {content: \"\";position: absolute;border-left: 1px solid gray;box-sizing: border-box;top: 0;bottom: 0;left: 50%;z-index: -1;}#sk-container-id-11 div.sk-parallel-item {display: flex;flex-direction: column;z-index: 1;position: relative;background-color: white;}#sk-container-id-11 div.sk-parallel-item:first-child::after {align-self: flex-end;width: 50%;}#sk-container-id-11 div.sk-parallel-item:last-child::after {align-self: flex-start;width: 50%;}#sk-container-id-11 div.sk-parallel-item:only-child::after {width: 0;}#sk-container-id-11 div.sk-dashed-wrapped {border: 1px dashed gray;margin: 0 0.4em 0.5em 0.4em;box-sizing: border-box;padding-bottom: 0.4em;background-color: white;}#sk-container-id-11 div.sk-label label {font-family: monospace;font-weight: bold;display: inline-block;line-height: 1.2em;}#sk-container-id-11 div.sk-label-container {text-align: center;}#sk-container-id-11 div.sk-container {/* jupyter's `normalize.less` sets `[hidden] { display: none; }` but bootstrap.min.css set `[hidden] { display: none !important; }` so we also need the `!important` here to be able to override the default hidden behavior on the sphinx rendered scikit-learn.org. See: https://github.com/scikit-learn/scikit-learn/issues/21755 */display: inline-block !important;position: relative;}#sk-container-id-11 div.sk-text-repr-fallback {display: none;}</style><div id=\"sk-container-id-11\" class=\"sk-top-container\"><div class=\"sk-text-repr-fallback\"><pre>StandardScaler()</pre><b>In a Jupyter environment, please rerun this cell to show the HTML representation or trust the notebook. <br />On GitHub, the HTML representation is unable to render, please try loading this page with nbviewer.org.</b></div><div class=\"sk-container\" hidden><div class=\"sk-item\"><div class=\"sk-estimator sk-toggleable\"><input class=\"sk-toggleable__control sk-hidden--visually\" id=\"sk-estimator-id-11\" type=\"checkbox\" checked><label for=\"sk-estimator-id-11\" class=\"sk-toggleable__label sk-toggleable__label-arrow\">StandardScaler</label><div class=\"sk-toggleable__content\"><pre>StandardScaler()</pre></div></div></div></div></div>"
      ],
      "text/plain": [
       "StandardScaler()"
      ]
     },
     "execution_count": 108,
     "metadata": {},
     "output_type": "execute_result"
    }
   ],
   "source": [
    "standard_scaler.fit(X_train)"
   ]
  },
  {
   "cell_type": "code",
   "execution_count": 109,
   "id": "4e194895",
   "metadata": {},
   "outputs": [],
   "source": [
    "X_train_normed = standard_scaler.transform(X_train)\n",
    "X_val_normed = standard_scaler.transform(X_val)\n",
    "X_test_normed = standard_scaler.transform(X_test)\n"
   ]
  },
  {
   "cell_type": "code",
   "execution_count": 115,
   "id": "f28436dd",
   "metadata": {},
   "outputs": [],
   "source": [
    "train_normed = np.concatenate((X_train_normed, y_train), axis=1)\n",
    "val_normed = np.concatenate((X_val_normed, y_val), axis=1)\n",
    "test_normed = np.concatenate((X_test_normed, y_test), axis=1)"
   ]
  },
  {
   "cell_type": "markdown",
   "id": "42f04d53",
   "metadata": {},
   "source": [
    "#### Dataloader\n",
    "\n",
    "torch's dataloader is provided as input to the dataset. The dataset enables parallelization of data queuing so the model can train rapidly. While the model is running, the datasets and dataloaders work to load the next few batches into memory so no time is wasted between batches.\n",
    "\n",
    "\n"
   ]
  },
  {
   "cell_type": "code",
   "execution_count": 145,
   "id": "86c90c4c",
   "metadata": {},
   "outputs": [],
   "source": [
    "class health_cost_dataset(Dataset):\n",
    "    def __init__(self, data, transform=None):\n",
    "        # data should be numpy array of shape (-1, 10)\n",
    "        self.data = data.astype('float32')\n",
    "        self.transform = transform\n",
    "        self.length = len(data)\n",
    "    \n",
    "    def __len__(self):\n",
    "        return self.length\n",
    "    \n",
    "    def __getitem__(self, index):\n",
    "        item = self.data[index]\n",
    "        if self.transform:\n",
    "            item = transform(item)\n",
    "        X = item[:9]\n",
    "        y = item[9:]\n",
    "        return X, y"
   ]
  },
  {
   "cell_type": "markdown",
   "id": "2fea7d59",
   "metadata": {},
   "source": [
    "### Creating the model"
   ]
  },
  {
   "cell_type": "code",
   "execution_count": 193,
   "id": "cd040fd2",
   "metadata": {},
   "outputs": [],
   "source": [
    "class health_cost_net(nn.Module):\n",
    "    def __init__(self, hidden_layers=[]):\n",
    "        super(health_cost_net, self).__init__()\n",
    "        \n",
    "        hiddens = hidden_layers.copy()\n",
    "        self.input_size = 9\n",
    "        self.output_size = 1\n",
    "        hiddens.insert(0, self.input_size)\n",
    "        hiddens.append(self.output_size)\n",
    "        \n",
    "        self.layers = nn.ModuleList()\n",
    "        for k in range(len(hiddens)-1):\n",
    "            self.layers.append(nn.Linear(hiddens[k], hiddens[k+1]))\n",
    "            if k < len(hiddens)-2:\n",
    "                self.layers.append(nn.ReLU())\n",
    "        # final node output is predicted continuous output\n",
    "        \n",
    "    def forward(self, x):\n",
    "        for f in self.layers:\n",
    "            x = f(x)\n",
    "        return x\n",
    "\n",
    "def train(dataloader, model, loss_fn, optimizer, verbose=False):\n",
    "    size = len(dataloader.dataset)\n",
    "    model = model.float()\n",
    "    model.train()\n",
    "    \n",
    "    for batch, (X, y) in enumerate(dataloader):\n",
    "        X, y = X.to(device), y.to(device)\n",
    "        \n",
    "        # compute prediction error\n",
    "        pred = model(X)\n",
    "        loss = loss_fn(pred, y)\n",
    "        \n",
    "        # backprop\n",
    "        optimizer.zero_grad()\n",
    "        loss.backward()\n",
    "        optimizer.step()\n",
    "        \n",
    "        if batch % 50 == 0 and verbose:\n",
    "            loss, current = loss.item(), batch * len(X)\n",
    "            print(f\"loss: {loss:>7f}  [{current:>5d}/{size:>5d}]\")\n",
    "    return loss\n",
    "\n",
    "def test(dataloader, model, loss_fn, verbose=False):\n",
    "    size = len(dataloader.dataset)\n",
    "    num_batches = len(dataloader)\n",
    "    model = model.float()\n",
    "    model.eval()\n",
    "    \n",
    "    test_loss = 0\n",
    "    with torch.no_grad():\n",
    "        for X, y in dataloader:\n",
    "            X, y = X.to(device), y.to(device)\n",
    "            pred = model(X)\n",
    "            test_loss += loss_fn(pred, y).item()\n",
    "    test_loss /= num_batches\n",
    "    if verbose:\n",
    "        print(f\"Results: \\n Avg loss: {test_loss:>4f}\")\n",
    "    return  test_loss\n",
    "    "
   ]
  },
  {
   "cell_type": "code",
   "execution_count": 194,
   "id": "00cf6c3c",
   "metadata": {},
   "outputs": [
    {
     "data": {
      "text/plain": [
       "health_cost_net(\n",
       "  (layers): ModuleList(\n",
       "    (0): Linear(in_features=9, out_features=8, bias=True)\n",
       "    (1): ReLU()\n",
       "    (2): Linear(in_features=8, out_features=6, bias=True)\n",
       "    (3): ReLU()\n",
       "    (4): Linear(in_features=6, out_features=4, bias=True)\n",
       "    (5): ReLU()\n",
       "    (6): Linear(in_features=4, out_features=1, bias=True)\n",
       "  )\n",
       ")"
      ]
     },
     "execution_count": 194,
     "metadata": {},
     "output_type": "execute_result"
    }
   ],
   "source": [
    "health_cost_net(hidden_layers= [8, 6, 4])"
   ]
  },
  {
   "cell_type": "markdown",
   "id": "2a91bc25",
   "metadata": {},
   "source": [
    "## Training the net"
   ]
  },
  {
   "cell_type": "code",
   "execution_count": 195,
   "id": "c2b63eed",
   "metadata": {},
   "outputs": [],
   "source": [
    "train_dataset = health_cost_dataset(train_normed)\n",
    "val_dataset = health_cost_dataset(val_normed)\n",
    "test_dataset = health_cost_dataset(test_normed)"
   ]
  },
  {
   "cell_type": "code",
   "execution_count": 196,
   "id": "5b75f091",
   "metadata": {},
   "outputs": [
    {
     "name": "stdout",
     "output_type": "stream",
     "text": [
      "Using cpu device\n",
      "Done training!\n",
      "End Loss:  38.554186\n"
     ]
    }
   ],
   "source": [
    "batch_size = 200\n",
    "\n",
    "train_dataloader = DataLoader(\n",
    "    train_dataset,\n",
    "    batch_size=batch_size,\n",
    "    shuffle=True\n",
    ")\n",
    "val_dataloader = DataLoader(\n",
    "    val_dataset,\n",
    "    batch_size=batch_size,\n",
    "    shuffle=False\n",
    ")\n",
    "test_dataloader = DataLoader(\n",
    "    test_dataset,\n",
    "    batch_size=batch_size,\n",
    "    shuffle=False\n",
    ")\n",
    "\n",
    "device = \"cuda\" if torch.cuda.is_available() else \"cpu\"\n",
    "print(f\"Using {device} device\")\n",
    "\n",
    "model = health_cost_net(hidden_layers= [8, 6, 4])\n",
    "model = model.float()\n",
    "\n",
    "# regression, typical choice is MSE\n",
    "loss_fn = nn.MSELoss()\n",
    "\n",
    "# adam is popular due to its grad boosting capabilities, \n",
    "#  and it includes momentum and weight punishing\n",
    "optimizer = torch.optim.Adam(\n",
    "    model.parameters(), \n",
    "    lr=0.01, \n",
    "    betas=(0.9, 0.999), \n",
    "    eps=1e-8, \n",
    "    weight_decay=0.005\n",
    ")\n",
    "\n",
    "train_loss = []\n",
    "val_loss = []\n",
    "\n",
    "epochs = 100\n",
    "for t in range(epochs):\n",
    "    train_l = train(train_dataloader, model, loss_fn, optimizer, verbose=False)\n",
    "    train_loss.append(train_l.detach().numpy())\n",
    "    \n",
    "    val_l = test(val_dataloader, model, loss_fn, verbose=False)\n",
    "    val_loss.append(val_l)\n",
    "\n",
    "    \n",
    "print(\"Done training!\")\n",
    "print(f\"End Loss:  {val_loss[-1]:>4f}\")\n"
   ]
  },
  {
   "cell_type": "code",
   "execution_count": 197,
   "id": "4274a1b6",
   "metadata": {},
   "outputs": [
    {
     "data": {
      "image/png": "[encoded data removed]",
      "text/plain": [
       "<Figure size 640x480 with 1 Axes>"
      ]
     },
     "metadata": {},
     "output_type": "display_data"
    }
   ],
   "source": [
    "fig, ax = plt.subplots()\n",
    "\n",
    "xs = np.arange(len(val_loss))\n",
    "ax.plot(xs, train_loss, color='red')\n",
    "ax.plot(xs, val_loss, color='blue')\n",
    "\n",
    "plt.show()"
   ]
  },
  {
   "cell_type": "code",
   "execution_count": 216,
   "id": "1a5e392a",
   "metadata": {},
   "outputs": [
    {
     "name": "stdout",
     "output_type": "stream",
     "text": [
      "Using cpu device\n",
      "iteration   0\n",
      "iteration  10\n",
      "iteration  20\n",
      "iteration  30\n"
     ]
    }
   ],
   "source": [
    "seed = 100\n",
    "\n",
    "device = \"cuda\" if torch.cuda.is_available() else \"cpu\"\n",
    "print(f\"Using {device} device\")\n",
    "\n",
    "\n",
    "\n",
    "weight_decays = [0, 0.001, 0.01, 0.1]\n",
    "lrs = [0.01, 0.1, 0.2]\n",
    "hiddens = [\n",
    "    [5, 3],\n",
    "    [8, 6, 4],\n",
    "    [8, 6, 6, 6, 4]\n",
    "]\n",
    "\n",
    "weight_decay_list = []\n",
    "lr_list = []\n",
    "hidden_layers_list = []\n",
    "best_val_accur_list = []\n",
    "best_val_accur_at_list = []\n",
    "\n",
    "counter = 0\n",
    "for h in hiddens:\n",
    "    for lr in lrs:\n",
    "        for wd in weight_decays:\n",
    "            torch.manual_seed(seed)\n",
    "            np.random.seed(seed)\n",
    "            \n",
    "            batch_size = 200\n",
    "\n",
    "            train_dataloader = DataLoader(\n",
    "                train_dataset,\n",
    "                batch_size=batch_size,\n",
    "                shuffle=True\n",
    "            )\n",
    "            val_dataloader = DataLoader(\n",
    "                val_dataset,\n",
    "                batch_size=batch_size,\n",
    "                shuffle=False\n",
    "            )\n",
    "            test_dataloader = DataLoader(\n",
    "                test_dataset,\n",
    "                batch_size=batch_size,\n",
    "                shuffle=False\n",
    "            )\n",
    "            \n",
    "            init_hidden = h.copy()\n",
    "            model = health_cost_net(hidden_layers=h)\n",
    "            model = model.float()\n",
    "\n",
    "            # regression, typical choice is MSE\n",
    "            loss_fn = nn.MSELoss()\n",
    "\n",
    "            # adam is popular due to its grad boosting capabilities, \n",
    "            #  and it includes momentum and weight punishing\n",
    "            optimizer = torch.optim.Adam(\n",
    "                model.parameters(), \n",
    "                lr=lr, \n",
    "                betas=(0.9, 0.999), \n",
    "                eps=1e-8, \n",
    "                weight_decay=wd,\n",
    "            )\n",
    "\n",
    "            train_loss = []\n",
    "            val_loss = []\n",
    "\n",
    "            epochs = 100\n",
    "            for t in range(epochs):\n",
    "                train_l = train(train_dataloader, model, loss_fn, optimizer, verbose=False)\n",
    "                train_loss.append(train_l.detach().numpy())\n",
    "\n",
    "                val_l = test(val_dataloader, model, loss_fn, verbose=False)\n",
    "                val_loss.append(val_l)\n",
    "\n",
    "\n",
    "            #print(\"Done training!\")\n",
    "            #print(f\"End Loss:  {val_loss[-1]:>4f}\")\n",
    "            \n",
    "            best_val_loss = min(val_loss)\n",
    "            best_val_loss_at = val_loss.index(best_val_loss)\n",
    "            \n",
    "            weight_decay_list.append(wd)\n",
    "            lr_list.append(lr)\n",
    "            hidden_layers_list.append(h) \n",
    "            best_val_accur_list.append(best_val_loss)\n",
    "            best_val_accur_at_list.append(best_val_loss_at)\n",
    "            \n",
    "            if counter % 10 == 0:\n",
    "                print('iteration {:>3}'.format(counter))\n",
    "            counter += 1\n",
    "            \n",
    "results = pd.DataFrame(\n",
    "    data={\n",
    "        'hidden_layers': hidden_layers_list,\n",
    "        'lr': lr_list,\n",
    "        'weight_decay': weight_decay_list,\n",
    "        'best_val_loss_at': best_val_accur_at_list,\n",
    "        'best val loss': best_val_accur_list\n",
    "    }\n",
    ")"
   ]
  },
  {
   "cell_type": "code",
   "execution_count": 217,
   "id": "c3e5aad4",
   "metadata": {},
   "outputs": [
    {
     "data": {
      "text/html": [
       "<div>\n",
       "<style scoped>\n",
       "    .dataframe tbody tr th:only-of-type {\n",
       "        vertical-align: middle;\n",
       "    }\n",
       "\n",
       "    .dataframe tbody tr th {\n",
       "        vertical-align: top;\n",
       "    }\n",
       "\n",
       "    .dataframe thead th {\n",
       "        text-align: right;\n",
       "    }\n",
       "</style>\n",
       "<table border=\"1\" class=\"dataframe\">\n",
       "  <thead>\n",
       "    <tr style=\"text-align: right;\">\n",
       "      <th></th>\n",
       "      <th>hidden_layers</th>\n",
       "      <th>lr</th>\n",
       "      <th>weight_decay</th>\n",
       "      <th>best_val_loss_at</th>\n",
       "      <th>best val loss</th>\n",
       "    </tr>\n",
       "  </thead>\n",
       "  <tbody>\n",
       "    <tr>\n",
       "      <th>17</th>\n",
       "      <td>[8, 6, 4]</td>\n",
       "      <td>0.1</td>\n",
       "      <td>0.001</td>\n",
       "      <td>86</td>\n",
       "      <td>29.011810</td>\n",
       "    </tr>\n",
       "    <tr>\n",
       "      <th>18</th>\n",
       "      <td>[8, 6, 4]</td>\n",
       "      <td>0.1</td>\n",
       "      <td>0.010</td>\n",
       "      <td>79</td>\n",
       "      <td>29.829028</td>\n",
       "    </tr>\n",
       "    <tr>\n",
       "      <th>16</th>\n",
       "      <td>[8, 6, 4]</td>\n",
       "      <td>0.1</td>\n",
       "      <td>0.000</td>\n",
       "      <td>79</td>\n",
       "      <td>30.121391</td>\n",
       "    </tr>\n",
       "    <tr>\n",
       "      <th>29</th>\n",
       "      <td>[8, 6, 6, 6, 4]</td>\n",
       "      <td>0.1</td>\n",
       "      <td>0.001</td>\n",
       "      <td>61</td>\n",
       "      <td>30.645989</td>\n",
       "    </tr>\n",
       "    <tr>\n",
       "      <th>22</th>\n",
       "      <td>[8, 6, 4]</td>\n",
       "      <td>0.2</td>\n",
       "      <td>0.010</td>\n",
       "      <td>79</td>\n",
       "      <td>30.668508</td>\n",
       "    </tr>\n",
       "    <tr>\n",
       "      <th>34</th>\n",
       "      <td>[8, 6, 6, 6, 4]</td>\n",
       "      <td>0.2</td>\n",
       "      <td>0.010</td>\n",
       "      <td>63</td>\n",
       "      <td>30.962824</td>\n",
       "    </tr>\n",
       "    <tr>\n",
       "      <th>21</th>\n",
       "      <td>[8, 6, 4]</td>\n",
       "      <td>0.2</td>\n",
       "      <td>0.001</td>\n",
       "      <td>79</td>\n",
       "      <td>31.171957</td>\n",
       "    </tr>\n",
       "    <tr>\n",
       "      <th>20</th>\n",
       "      <td>[8, 6, 4]</td>\n",
       "      <td>0.2</td>\n",
       "      <td>0.000</td>\n",
       "      <td>79</td>\n",
       "      <td>31.615526</td>\n",
       "    </tr>\n",
       "    <tr>\n",
       "      <th>23</th>\n",
       "      <td>[8, 6, 4]</td>\n",
       "      <td>0.2</td>\n",
       "      <td>0.100</td>\n",
       "      <td>75</td>\n",
       "      <td>31.946862</td>\n",
       "    </tr>\n",
       "    <tr>\n",
       "      <th>19</th>\n",
       "      <td>[8, 6, 4]</td>\n",
       "      <td>0.1</td>\n",
       "      <td>0.100</td>\n",
       "      <td>75</td>\n",
       "      <td>32.565205</td>\n",
       "    </tr>\n",
       "  </tbody>\n",
       "</table>\n",
       "</div>"
      ],
      "text/plain": [
       "      hidden_layers   lr  weight_decay  best_val_loss_at  best val loss\n",
       "17        [8, 6, 4]  0.1         0.001                86      29.011810\n",
       "18        [8, 6, 4]  0.1         0.010                79      29.829028\n",
       "16        [8, 6, 4]  0.1         0.000                79      30.121391\n",
       "29  [8, 6, 6, 6, 4]  0.1         0.001                61      30.645989\n",
       "22        [8, 6, 4]  0.2         0.010                79      30.668508\n",
       "34  [8, 6, 6, 6, 4]  0.2         0.010                63      30.962824\n",
       "21        [8, 6, 4]  0.2         0.001                79      31.171957\n",
       "20        [8, 6, 4]  0.2         0.000                79      31.615526\n",
       "23        [8, 6, 4]  0.2         0.100                75      31.946862\n",
       "19        [8, 6, 4]  0.1         0.100                75      32.565205"
      ]
     },
     "execution_count": 217,
     "metadata": {},
     "output_type": "execute_result"
    }
   ],
   "source": [
    "results.sort_values(by='best val loss', ascending=True).head(10)"
   ]
  },
  {
   "cell_type": "markdown",
   "id": "f516109d",
   "metadata": {},
   "source": [
    "The best model uses:\n",
    "\n",
    "```\n",
    "hidden layers: [8, 6, 4] \t\n",
    "learning rate: 0.1\n",
    "weight decay: 0.001\n",
    "epoch: 86\n",
    "anticipated loss: 29.011810\n",
    "```"
   ]
  },
  {
   "cell_type": "markdown",
   "id": "c27bc61c",
   "metadata": {},
   "source": [
    "Now that we have the best hyperparameters, we can train the model and save it for future use."
   ]
  }
 ],
 "metadata": {
  "kernelspec": {
   "display_name": "Python 3 (ipykernel)",
   "language": "python",
   "name": "python3"
  },
  "language_info": {
   "codemirror_mode": {
    "name": "ipython",
    "version": 3
   },
   "file_extension": ".py",
   "mimetype": "text/x-python",
   "name": "python",
   "nbconvert_exporter": "python",
   "pygments_lexer": "ipython3",
   "version": "3.9.15"
  }
 },
 "nbformat": 4,
 "nbformat_minor": 5
}
